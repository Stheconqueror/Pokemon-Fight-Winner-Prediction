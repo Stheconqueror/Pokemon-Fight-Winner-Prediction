{
 "cells": [
  {
   "cell_type": "markdown",
   "metadata": {
    "collapsed": true
   },
   "source": [
    "# Final Project\n",
    "\n",
    "# Name: Satyajit Das \n",
    "# Roll No:19281\n",
    "\n",
    "\n"
   ]
  },
  {
   "cell_type": "code",
   "execution_count": 1,
   "metadata": {},
   "outputs": [],
   "source": [
    "import pandas as pd\n",
    "import numpy as np\n",
    "import seaborn as sns\n",
    "import matplotlib.pyplot as plt\n",
    "import csv\n",
    "\n",
    "\n",
    "pokemon = pd.read_csv(\"pokemon_data.csv\")"
   ]
  },
  {
   "cell_type": "markdown",
   "metadata": {},
   "source": [
    "# Data Preparation"
   ]
  },
  {
   "cell_type": "code",
   "execution_count": 2,
   "metadata": {
    "scrolled": true
   },
   "outputs": [
    {
     "name": "stdout",
     "output_type": "stream",
     "text": [
      "<class 'pandas.core.frame.DataFrame'>\n",
      "RangeIndex: 800 entries, 0 to 799\n",
      "Data columns (total 11 columns):\n",
      " #   Column     Non-Null Count  Dtype \n",
      "---  ------     --------------  ----- \n",
      " 0   id         800 non-null    int64 \n",
      " 1   Name       799 non-null    object\n",
      " 2   Type 1     800 non-null    object\n",
      " 3   Type 2     800 non-null    object\n",
      " 4   HP         800 non-null    int64 \n",
      " 5   Attack     800 non-null    int64 \n",
      " 6   Defense    800 non-null    int64 \n",
      " 7   Sp. Atk    800 non-null    int64 \n",
      " 8   Sp. Def    800 non-null    int64 \n",
      " 9   Speed      800 non-null    int64 \n",
      " 10  Legendary  800 non-null    bool  \n",
      "dtypes: bool(1), int64(7), object(3)\n",
      "memory usage: 63.4+ KB\n"
     ]
    }
   ],
   "source": [
    "pokemon.drop(['Generation'],inplace=True,axis=1)\n",
    "pokemon.rename(columns={'#':'id'},inplace=True)\n",
    "pokemon['Type 2'] = pokemon['Type 2'].fillna('None')\n",
    "pokemon.info()\n"
   ]
  },
  {
   "cell_type": "code",
   "execution_count": 3,
   "metadata": {},
   "outputs": [
    {
     "data": {
      "text/html": [
       "<div>\n",
       "<style scoped>\n",
       "    .dataframe tbody tr th:only-of-type {\n",
       "        vertical-align: middle;\n",
       "    }\n",
       "\n",
       "    .dataframe tbody tr th {\n",
       "        vertical-align: top;\n",
       "    }\n",
       "\n",
       "    .dataframe thead th {\n",
       "        text-align: right;\n",
       "    }\n",
       "</style>\n",
       "<table border=\"1\" class=\"dataframe\">\n",
       "  <thead>\n",
       "    <tr style=\"text-align: right;\">\n",
       "      <th></th>\n",
       "      <th>id</th>\n",
       "      <th>Name</th>\n",
       "      <th>Type 1</th>\n",
       "      <th>Type 2</th>\n",
       "      <th>HP</th>\n",
       "      <th>Attack</th>\n",
       "      <th>Defense</th>\n",
       "      <th>Sp. Atk</th>\n",
       "      <th>Sp. Def</th>\n",
       "      <th>Speed</th>\n",
       "      <th>Legendary</th>\n",
       "    </tr>\n",
       "  </thead>\n",
       "  <tbody>\n",
       "    <tr>\n",
       "      <th>0</th>\n",
       "      <td>1</td>\n",
       "      <td>Bulbasaur</td>\n",
       "      <td>Grass</td>\n",
       "      <td>Poison</td>\n",
       "      <td>45</td>\n",
       "      <td>49</td>\n",
       "      <td>49</td>\n",
       "      <td>65</td>\n",
       "      <td>65</td>\n",
       "      <td>45</td>\n",
       "      <td>False</td>\n",
       "    </tr>\n",
       "    <tr>\n",
       "      <th>1</th>\n",
       "      <td>2</td>\n",
       "      <td>Ivysaur</td>\n",
       "      <td>Grass</td>\n",
       "      <td>Poison</td>\n",
       "      <td>60</td>\n",
       "      <td>62</td>\n",
       "      <td>63</td>\n",
       "      <td>80</td>\n",
       "      <td>80</td>\n",
       "      <td>60</td>\n",
       "      <td>False</td>\n",
       "    </tr>\n",
       "    <tr>\n",
       "      <th>2</th>\n",
       "      <td>3</td>\n",
       "      <td>Venusaur</td>\n",
       "      <td>Grass</td>\n",
       "      <td>Poison</td>\n",
       "      <td>80</td>\n",
       "      <td>82</td>\n",
       "      <td>83</td>\n",
       "      <td>100</td>\n",
       "      <td>100</td>\n",
       "      <td>80</td>\n",
       "      <td>False</td>\n",
       "    </tr>\n",
       "    <tr>\n",
       "      <th>3</th>\n",
       "      <td>4</td>\n",
       "      <td>Mega Venusaur</td>\n",
       "      <td>Grass</td>\n",
       "      <td>Poison</td>\n",
       "      <td>80</td>\n",
       "      <td>100</td>\n",
       "      <td>123</td>\n",
       "      <td>122</td>\n",
       "      <td>120</td>\n",
       "      <td>80</td>\n",
       "      <td>False</td>\n",
       "    </tr>\n",
       "    <tr>\n",
       "      <th>4</th>\n",
       "      <td>5</td>\n",
       "      <td>Charmander</td>\n",
       "      <td>Fire</td>\n",
       "      <td>None</td>\n",
       "      <td>39</td>\n",
       "      <td>52</td>\n",
       "      <td>43</td>\n",
       "      <td>60</td>\n",
       "      <td>50</td>\n",
       "      <td>65</td>\n",
       "      <td>False</td>\n",
       "    </tr>\n",
       "  </tbody>\n",
       "</table>\n",
       "</div>"
      ],
      "text/plain": [
       "   id           Name Type 1  Type 2  HP  Attack  Defense  Sp. Atk  Sp. Def  \\\n",
       "0   1      Bulbasaur  Grass  Poison  45      49       49       65       65   \n",
       "1   2        Ivysaur  Grass  Poison  60      62       63       80       80   \n",
       "2   3       Venusaur  Grass  Poison  80      82       83      100      100   \n",
       "3   4  Mega Venusaur  Grass  Poison  80     100      123      122      120   \n",
       "4   5     Charmander   Fire    None  39      52       43       60       50   \n",
       "\n",
       "   Speed  Legendary  \n",
       "0     45      False  \n",
       "1     60      False  \n",
       "2     80      False  \n",
       "3     80      False  \n",
       "4     65      False  "
      ]
     },
     "execution_count": 3,
     "metadata": {},
     "output_type": "execute_result"
    }
   ],
   "source": [
    "pokemon['Name'] = pokemon['Name'].fillna('Primeape')\n",
    "pokemon['Type 1'] = pokemon['Type 1'].replace('Fighting', 'Fight')\n",
    "pokemon['Type 2'] = pokemon['Type 2'].replace('Fighting', 'Fight')\n",
    "pokemon_df = pokemon.copy()\n",
    "pokemon.head()"
   ]
  },
  {
   "cell_type": "code",
   "execution_count": 4,
   "metadata": {},
   "outputs": [
    {
     "data": {
      "text/html": [
       "<div>\n",
       "<style scoped>\n",
       "    .dataframe tbody tr th:only-of-type {\n",
       "        vertical-align: middle;\n",
       "    }\n",
       "\n",
       "    .dataframe tbody tr th {\n",
       "        vertical-align: top;\n",
       "    }\n",
       "\n",
       "    .dataframe thead th {\n",
       "        text-align: right;\n",
       "    }\n",
       "</style>\n",
       "<table border=\"1\" class=\"dataframe\">\n",
       "  <thead>\n",
       "    <tr style=\"text-align: right;\">\n",
       "      <th></th>\n",
       "      <th>Name</th>\n",
       "      <th>Type 1</th>\n",
       "      <th>HP</th>\n",
       "      <th>Attack</th>\n",
       "      <th>Defense</th>\n",
       "      <th>Sp. Atk</th>\n",
       "      <th>Sp. Def</th>\n",
       "      <th>Speed</th>\n",
       "      <th>Legendary</th>\n",
       "    </tr>\n",
       "  </thead>\n",
       "  <tbody>\n",
       "    <tr>\n",
       "      <th>0</th>\n",
       "      <td>Bulbasaur</td>\n",
       "      <td>Grass</td>\n",
       "      <td>45</td>\n",
       "      <td>49</td>\n",
       "      <td>49</td>\n",
       "      <td>65</td>\n",
       "      <td>65</td>\n",
       "      <td>45</td>\n",
       "      <td>False</td>\n",
       "    </tr>\n",
       "    <tr>\n",
       "      <th>1</th>\n",
       "      <td>Ivysaur</td>\n",
       "      <td>Grass</td>\n",
       "      <td>60</td>\n",
       "      <td>62</td>\n",
       "      <td>63</td>\n",
       "      <td>80</td>\n",
       "      <td>80</td>\n",
       "      <td>60</td>\n",
       "      <td>False</td>\n",
       "    </tr>\n",
       "    <tr>\n",
       "      <th>2</th>\n",
       "      <td>Venusaur</td>\n",
       "      <td>Grass</td>\n",
       "      <td>80</td>\n",
       "      <td>82</td>\n",
       "      <td>83</td>\n",
       "      <td>100</td>\n",
       "      <td>100</td>\n",
       "      <td>80</td>\n",
       "      <td>False</td>\n",
       "    </tr>\n",
       "    <tr>\n",
       "      <th>3</th>\n",
       "      <td>Mega Venusaur</td>\n",
       "      <td>Grass</td>\n",
       "      <td>80</td>\n",
       "      <td>100</td>\n",
       "      <td>123</td>\n",
       "      <td>122</td>\n",
       "      <td>120</td>\n",
       "      <td>80</td>\n",
       "      <td>False</td>\n",
       "    </tr>\n",
       "    <tr>\n",
       "      <th>4</th>\n",
       "      <td>Charmander</td>\n",
       "      <td>Fire</td>\n",
       "      <td>39</td>\n",
       "      <td>52</td>\n",
       "      <td>43</td>\n",
       "      <td>60</td>\n",
       "      <td>50</td>\n",
       "      <td>65</td>\n",
       "      <td>False</td>\n",
       "    </tr>\n",
       "  </tbody>\n",
       "</table>\n",
       "</div>"
      ],
      "text/plain": [
       "            Name Type 1  HP  Attack  Defense  Sp. Atk  Sp. Def  Speed  \\\n",
       "0      Bulbasaur  Grass  45      49       49       65       65     45   \n",
       "1        Ivysaur  Grass  60      62       63       80       80     60   \n",
       "2       Venusaur  Grass  80      82       83      100      100     80   \n",
       "3  Mega Venusaur  Grass  80     100      123      122      120     80   \n",
       "4     Charmander   Fire  39      52       43       60       50     65   \n",
       "\n",
       "   Legendary  \n",
       "0      False  \n",
       "1      False  \n",
       "2      False  \n",
       "3      False  \n",
       "4      False  "
      ]
     },
     "execution_count": 4,
     "metadata": {},
     "output_type": "execute_result"
    }
   ],
   "source": [
    "pokemon.drop([\"id\"],inplace=True,axis=1)\n",
    "pokemon.drop([\"Type 2\"],inplace=True,axis=1)\n",
    "pokemon.head()"
   ]
  },
  {
   "cell_type": "code",
   "execution_count": 5,
   "metadata": {},
   "outputs": [
    {
     "data": {
      "text/html": [
       "<div>\n",
       "<style scoped>\n",
       "    .dataframe tbody tr th:only-of-type {\n",
       "        vertical-align: middle;\n",
       "    }\n",
       "\n",
       "    .dataframe tbody tr th {\n",
       "        vertical-align: top;\n",
       "    }\n",
       "\n",
       "    .dataframe thead th {\n",
       "        text-align: right;\n",
       "    }\n",
       "</style>\n",
       "<table border=\"1\" class=\"dataframe\">\n",
       "  <thead>\n",
       "    <tr style=\"text-align: right;\">\n",
       "      <th></th>\n",
       "      <th>Name</th>\n",
       "      <th>Type 1</th>\n",
       "      <th>HP</th>\n",
       "      <th>Attack</th>\n",
       "      <th>Defense</th>\n",
       "      <th>Sp. Atk</th>\n",
       "      <th>Sp. Def</th>\n",
       "      <th>Speed</th>\n",
       "      <th>Legendary</th>\n",
       "      <th>Total</th>\n",
       "    </tr>\n",
       "  </thead>\n",
       "  <tbody>\n",
       "    <tr>\n",
       "      <th>0</th>\n",
       "      <td>Bulbasaur</td>\n",
       "      <td>Grass</td>\n",
       "      <td>45</td>\n",
       "      <td>49</td>\n",
       "      <td>49</td>\n",
       "      <td>65</td>\n",
       "      <td>65</td>\n",
       "      <td>45</td>\n",
       "      <td>False</td>\n",
       "      <td>318</td>\n",
       "    </tr>\n",
       "    <tr>\n",
       "      <th>1</th>\n",
       "      <td>Ivysaur</td>\n",
       "      <td>Grass</td>\n",
       "      <td>60</td>\n",
       "      <td>62</td>\n",
       "      <td>63</td>\n",
       "      <td>80</td>\n",
       "      <td>80</td>\n",
       "      <td>60</td>\n",
       "      <td>False</td>\n",
       "      <td>405</td>\n",
       "    </tr>\n",
       "    <tr>\n",
       "      <th>2</th>\n",
       "      <td>Venusaur</td>\n",
       "      <td>Grass</td>\n",
       "      <td>80</td>\n",
       "      <td>82</td>\n",
       "      <td>83</td>\n",
       "      <td>100</td>\n",
       "      <td>100</td>\n",
       "      <td>80</td>\n",
       "      <td>False</td>\n",
       "      <td>525</td>\n",
       "    </tr>\n",
       "    <tr>\n",
       "      <th>3</th>\n",
       "      <td>Mega Venusaur</td>\n",
       "      <td>Grass</td>\n",
       "      <td>80</td>\n",
       "      <td>100</td>\n",
       "      <td>123</td>\n",
       "      <td>122</td>\n",
       "      <td>120</td>\n",
       "      <td>80</td>\n",
       "      <td>False</td>\n",
       "      <td>625</td>\n",
       "    </tr>\n",
       "    <tr>\n",
       "      <th>4</th>\n",
       "      <td>Charmander</td>\n",
       "      <td>Fire</td>\n",
       "      <td>39</td>\n",
       "      <td>52</td>\n",
       "      <td>43</td>\n",
       "      <td>60</td>\n",
       "      <td>50</td>\n",
       "      <td>65</td>\n",
       "      <td>False</td>\n",
       "      <td>309</td>\n",
       "    </tr>\n",
       "  </tbody>\n",
       "</table>\n",
       "</div>"
      ],
      "text/plain": [
       "            Name Type 1  HP  Attack  Defense  Sp. Atk  Sp. Def  Speed  \\\n",
       "0      Bulbasaur  Grass  45      49       49       65       65     45   \n",
       "1        Ivysaur  Grass  60      62       63       80       80     60   \n",
       "2       Venusaur  Grass  80      82       83      100      100     80   \n",
       "3  Mega Venusaur  Grass  80     100      123      122      120     80   \n",
       "4     Charmander   Fire  39      52       43       60       50     65   \n",
       "\n",
       "   Legendary  Total  \n",
       "0      False    318  \n",
       "1      False    405  \n",
       "2      False    525  \n",
       "3      False    625  \n",
       "4      False    309  "
      ]
     },
     "execution_count": 5,
     "metadata": {},
     "output_type": "execute_result"
    }
   ],
   "source": [
    "pokemon['Total']= pokemon['HP']+pokemon['Attack']+pokemon['Defense']+pokemon['Sp. Atk']+pokemon['Sp. Def']+pokemon['Speed']\n",
    "pokemon.head()"
   ]
  },
  {
   "cell_type": "code",
   "execution_count": 6,
   "metadata": {},
   "outputs": [
    {
     "data": {
      "image/png": "[encoded data removed]",
      "text/plain": [
       "<Figure size 864x432 with 1 Axes>"
      ]
     },
     "metadata": {
      "needs_background": "light"
     },
     "output_type": "display_data"
    }
   ],
   "source": [
    "pokemon1 = pokemon.groupby('Type 1')['Type 1'].count().reset_index(name = 'Count')\n",
    "pokemon1 = pokemon1.sort_values(by = 'Count')\n",
    "plt.figure(figsize=(12,6))\n",
    "sns.barplot(x=pokemon1['Type 1'], y= pokemon1['Count'])\n",
    "plt.xticks(rotation= 90)\n",
    "plt.xlabel('Type 1')\n",
    "plt.ylabel('Count')\n",
    "plt.title('Type Distribution')\n",
    "plt.show()"
   ]
  },
  {
   "cell_type": "code",
   "execution_count": 7,
   "metadata": {},
   "outputs": [
    {
     "data": {
      "image/png": "[encoded data removed]",
      "text/plain": [
       "<Figure size 720x720 with 1 Axes>"
      ]
     },
     "metadata": {},
     "output_type": "display_data"
    }
   ],
   "source": [
    "plt.figure(figsize=(10,10))\n",
    "labels = pokemon['Type 1'].value_counts().index\n",
    "pokemon['Type 1'].value_counts().plot(kind='pie', labels=labels, autopct='%1.0f%%')\n",
    "plt.show()"
   ]
  },
  {
   "cell_type": "code",
   "execution_count": 8,
   "metadata": {},
   "outputs": [
    {
     "data": {
      "image/png": "[encoded data removed]",
      "text/plain": [
       "<Figure size 1080x576 with 1 Axes>"
      ]
     },
     "metadata": {
      "needs_background": "light"
     },
     "output_type": "display_data"
    }
   ],
   "source": [
    "plt.figure(figsize=(15,8))\n",
    "ax = sns.boxplot(x = 'Type 1', y = 'Total', data = pokemon )\n",
    "plt.show()"
   ]
  },
  {
   "cell_type": "code",
   "execution_count": 9,
   "metadata": {},
   "outputs": [
    {
     "data": {
      "image/png": "[encoded data removed]",
      "text/plain": [
       "<Figure size 1440x576 with 1 Axes>"
      ]
     },
     "metadata": {
      "needs_background": "light"
     },
     "output_type": "display_data"
    }
   ],
   "source": [
    "plt.figure(figsize=(20,8))\n",
    "sns.swarmplot(x='Type 1', y='Total', data=pokemon, hue='Legendary')\n",
    "plt.axhline(pokemon['Total'].mean(), color='red', linestyle='dashed')\n",
    "plt.show()"
   ]
  },
  {
   "cell_type": "code",
   "execution_count": 10,
   "metadata": {},
   "outputs": [
    {
     "data": {
      "image/png": "[encoded data removed]",
      "text/plain": [
       "<Figure size 720x432 with 2 Axes>"
      ]
     },
     "metadata": {
      "needs_background": "light"
     },
     "output_type": "display_data"
    }
   ],
   "source": [
    "pokemon.drop([\"Total\"],inplace=True,axis=1)\n",
    "plt.figure(figsize=(10,6))\n",
    "sns.heatmap(pokemon.corr(),annot=True)\n",
    "plt.show()"
   ]
  },
  {
   "cell_type": "code",
   "execution_count": 11,
   "metadata": {},
   "outputs": [],
   "source": [
    "pokemon['Legendary'] = np.where(pokemon['Legendary'] == True, 1, 0)\n"
   ]
  },
  {
   "cell_type": "markdown",
   "metadata": {
    "collapsed": true
   },
   "source": [
    "## Predicting the Winner of the Combats\n"
   ]
  },
  {
   "cell_type": "markdown",
   "metadata": {},
   "source": [
    "## Loading datasets for Winner Prediction"
   ]
  },
  {
   "cell_type": "code",
   "execution_count": 12,
   "metadata": {},
   "outputs": [],
   "source": [
    "tests = pd.read_csv(\"test.csv\")\n",
    "combats = pd.read_csv(\"combats.csv\")"
   ]
  },
  {
   "cell_type": "markdown",
   "metadata": {},
   "source": [
    "## Data Preperation"
   ]
  },
  {
   "cell_type": "code",
   "execution_count": 13,
   "metadata": {},
   "outputs": [
    {
     "name": "stdout",
     "output_type": "stream",
     "text": [
      "   First_pokemon  Second_pokemon  Winner\n",
      "0            266             298       1\n",
      "1            702             701       1\n",
      "2            191             668       1\n",
      "3            237             683       1\n",
      "4            151             231       0\n"
     ]
    }
   ],
   "source": [
    "#Changing the Winner with 0 and 1\n",
    "#if winner is first Pokemon then Winner is 0 else 1\n",
    "combats.Winner[combats.Winner == combats.First_pokemon] = 0\n",
    "combats.Winner[combats.Winner == combats.Second_pokemon] = 1\n",
    "\n",
    "print(combats.head(5))"
   ]
  },
  {
   "cell_type": "code",
   "execution_count": 14,
   "metadata": {},
   "outputs": [],
   "source": [
    "#creating Dictonaries for type and stats\n",
    "#Type Dict will have type 1 and type 2 while stats will have the rest of the stats data\n",
    "\n",
    "type_dic = pokemon_df.iloc[:,0:4]\n",
    "type_dic=type_dic.drop(\"Name\", axis=1)\n",
    "type_dic.head()\n",
    "stats_dic = pokemon_df.drop(['Name','Type 1','Type 2'],axis=1)\n",
    "\n",
    "type_dict = type_dic.set_index('id').T.to_dict('list')\n",
    "stats_dict = stats_dic.set_index('id').T.to_dict('list')"
   ]
  },
  {
   "cell_type": "markdown",
   "metadata": {},
   "source": [
    "# Feature Engineering"
   ]
  },
  {
   "cell_type": "code",
   "execution_count": 15,
   "metadata": {},
   "outputs": [],
   "source": [
    "\n",
    "def replace(data):\n",
    "    data['First_pokemon_stats'] = data.First_pokemon.map(stats_dict)\n",
    "    data['Second_pokemon_stats']= data.Second_pokemon.map(stats_dict)\n",
    "    \n",
    "    data['First_pokemon'] = data.First_pokemon.map(type_dict)\n",
    "    data['Second_pokemon'] = data.Second_pokemon.map(type_dict)\n",
    "    \n",
    "    \n",
    "    return data"
   ]
  },
  {
   "cell_type": "code",
   "execution_count": 16,
   "metadata": {},
   "outputs": [],
   "source": [
    "#stats_diff function will get the difference in stats of the first and the second pokemon and will give  a dataframe consisting of those differences\n",
    "#taking the differnce would reduce the features while taking into account their effectiveness on the dataset\n",
    "def stats_diff(data):\n",
    "        stats_col=[\"HP_diff\",\"Attack_diff\",\"Defense_diff\",'Sp.Atk_diff', 'Sp.Def_diff', 'Speed_diff', 'Legendary_diff']\n",
    "        diff_list=[]\n",
    "    \n",
    "        for row in data.itertuples():\n",
    "            diff_list.append(np.array(row.First_pokemon_stats) - np.array(row.Second_pokemon_stats))\n",
    "        \n",
    "        \n",
    "        stats_df = pd.DataFrame(diff_list, columns=stats_col)\n",
    "        data = pd.concat([data, stats_df], axis=1)\n",
    "        data.drop(['First_pokemon_stats', 'Second_pokemon_stats'], axis=1, inplace=True)\n",
    "        \n",
    "        return data"
   ]
  },
  {
   "cell_type": "code",
   "execution_count": 17,
   "metadata": {},
   "outputs": [],
   "source": [
    "# Dictionaries having effectiveness of different types of pokemon on each other.\n",
    "#created 4 lists based on the types and their effectiveness on each other \n",
    "# the values in the lists starts with 1, if type is found in the very_effective dictionary then the value is multiplied by 2\n",
    "#if value found in not_very_effective then value is divided by 2\n",
    "\n",
    "def effectiveness(data):\n",
    "    \n",
    "    \n",
    "    very_effective_dict = {'Normal': [],\n",
    "                           'Fight': ['Normal', 'Rock', 'Steel', 'Ice', 'Dark'],\n",
    "                           'Flying': ['Fight', 'Bug', 'Grass'],\n",
    "                           'Poison': ['Grass', 'Fairy'],\n",
    "                           'Ground': ['Poison', 'Rock', 'Steel', 'Fire', 'Electric'],\n",
    "                           'Rock': ['Flying', 'Bug', 'Fire', 'Ice'],\n",
    "                           'Bug': ['Grass', 'Psychic', 'Dark'],\n",
    "                           'Ghost': ['Ghost', 'Psychic'],\n",
    "                           'Steel': ['Rock', 'Ice', 'Fairy'],\n",
    "                           'Fire': ['Bug', 'Steel', 'Grass', 'Ice'],\n",
    "                           'Water': ['Ground', 'Rock', 'Fire'],\n",
    "                           'Grass': ['Ground', 'Rock', 'Water'],\n",
    "                           'Electric': ['Flying', 'Water'],\n",
    "                           'Psychic': ['Fight', 'Poison'],\n",
    "                           'Ice': ['Flying', 'Ground', 'Grass', 'Dragon'],\n",
    "                           'Dragon': ['Dragon'],\n",
    "                           'Dark': ['Ghost', 'Psychic'],\n",
    "                           'Fairy': ['Fight', 'Dragon', 'Dark'],\n",
    "                           'None': []}\n",
    "    not_very_effective_dict = {'Normal': ['Rock', 'Steel'],\n",
    "                               'Fight': ['Flying', 'Poison', 'Bug', 'Psychic', 'Fairy'],\n",
    "                               'Flying': ['Rock', 'Steel', 'Electric'],\n",
    "                               'Poison': ['Poison', 'Rock', 'Ground', 'Ghost'],\n",
    "                               'Ground': ['Bug', 'Grass'],\n",
    "                               'Rock': ['Fight', 'Ground', 'Steel'],\n",
    "                               'Bug': ['Fight', 'Flying', 'Poison', 'Ghost', 'Steel', 'Fire', 'Fairy'],\n",
    "                               'Ghost': ['Dark'],\n",
    "                               'Steel': ['Steel', 'Fire', 'Water', 'Electric'],\n",
    "                               'Fire': ['Rock', 'Fire', 'Water', 'Dragon'],\n",
    "                               'Water': ['Water', 'Grass', 'Dragon'],\n",
    "                               'Grass': ['Flying', 'Poison', 'Bug', 'Steel', 'Fire', 'Grass', 'Dragon'],\n",
    "                               'Electric': ['Grass', 'Electric', 'Dragon'],\n",
    "                               'Psychic': ['Steel', 'Psychic'],\n",
    "                               'Ice': ['Steel', 'Fire', 'Water', 'Psychic'],\n",
    "                               'Dragon': ['Steel'],\n",
    "                               'Dark': ['Fight', 'Dark', 'Fairy'],\n",
    "                               'Fairy': ['Posion', 'Steel', 'Fire'],\n",
    "                               'None': []}\n",
    "\n",
    "    \n",
    "    pokemon1_type1=[]\n",
    "    pokemon1_type2=[]\n",
    "    pokemon2_type1=[]\n",
    "    pokemon2_type2=[]\n",
    "    \n",
    "    \n",
    "    for row in data.itertuples():\n",
    "        nested_type =[[1,1], [1,1]]\n",
    "        for i in range (0,2):\n",
    "            for j in range (0,2):\n",
    "                if row.Second_pokemon[j] in very_effective_dict.get(row.First_pokemon[i]):\n",
    "                    nested_type[0][i] *=2\n",
    "                if row.Second_pokemon[j] in not_very_effective_dict.get(row.First_pokemon[i]):\n",
    "                    nested_type[0][i] /=2\n",
    "                \n",
    "                if row.First_pokemon[j] in very_effective_dict.get(row.Second_pokemon[i]):\n",
    "                    nested_type[1][i] *=2\n",
    "                if row.First_pokemon[j] in not_very_effective_dict.get(row.Second_pokemon[i]):\n",
    "                    nested_type[1][i] /=2\n",
    "                \n",
    "                \n",
    "        pokemon1_type1.append(nested_type[0][0])\n",
    "        pokemon1_type2.append(nested_type[0][1])\n",
    "        pokemon2_type1.append(nested_type[1][0])\n",
    "        pokemon2_type2.append(nested_type[1][1])\n",
    "        \n",
    "        \n",
    "    data = data.assign(P1_Type1=pokemon1_type1,P1_Type2=pokemon1_type2,P2_Type1=pokemon2_type1,P2_Type2=pokemon2_type2)\n",
    "        \n",
    "    data = data.drop(['First_pokemon', 'Second_pokemon'], axis=1)\n",
    "\n",
    "    return data"
   ]
  },
  {
   "cell_type": "code",
   "execution_count": 18,
   "metadata": {},
   "outputs": [
    {
     "name": "stdout",
     "output_type": "stream",
     "text": [
      "     First_pokemon   Second_pokemon  Winner  \\\n",
      "0   [Rock, Ground]    [Grass, Dark]       1   \n",
      "1   [Grass, Fight]    [Rock, Fight]       1   \n",
      "2  [Fairy, Flying]  [Psychic, None]       1   \n",
      "3     [Fire, None]   [Dragon, None]       1   \n",
      "4    [Rock, Water]      [Bug, Rock]       0   \n",
      "\n",
      "                 First_pokemon_stats              Second_pokemon_stats  \n",
      "0    [50, 64, 50, 45, 50, 41, False]   [70, 70, 40, 60, 40, 60, False]  \n",
      "1   [91, 90, 72, 90, 129, 108, True]  [91, 129, 90, 72, 90, 108, True]  \n",
      "2   [55, 40, 85, 80, 105, 40, False]  [75, 75, 75, 125, 95, 40, False]  \n",
      "3    [40, 40, 40, 70, 40, 20, False]  [77, 120, 90, 60, 90, 48, False]  \n",
      "4  [70, 60, 125, 115, 70, 55, False]  [20, 10, 230, 10, 230, 5, False]  \n"
     ]
    }
   ],
   "source": [
    "train_df = replace(combats)\n",
    "print(train_df.head(5))"
   ]
  },
  {
   "cell_type": "code",
   "execution_count": 19,
   "metadata": {},
   "outputs": [
    {
     "name": "stdout",
     "output_type": "stream",
     "text": [
      "     First_pokemon   Second_pokemon  Winner  HP_diff  Attack_diff  \\\n",
      "0   [Rock, Ground]    [Grass, Dark]       1      -20           -6   \n",
      "1   [Grass, Fight]    [Rock, Fight]       1        0          -39   \n",
      "2  [Fairy, Flying]  [Psychic, None]       1      -20          -35   \n",
      "3     [Fire, None]   [Dragon, None]       1      -37          -80   \n",
      "4    [Rock, Water]      [Bug, Rock]       0       50           50   \n",
      "\n",
      "   Defense_diff  Sp.Atk_diff  Sp.Def_diff  Speed_diff  Legendary_diff  \n",
      "0            10          -15           10         -19               0  \n",
      "1           -18           18           39           0               0  \n",
      "2            10          -45           10           0               0  \n",
      "3           -50           10          -50         -28               0  \n",
      "4          -105          105         -160          50               0  \n"
     ]
    }
   ],
   "source": [
    "train_df = stats_diff(train_df)\n",
    "print(train_df.head(5))"
   ]
  },
  {
   "cell_type": "code",
   "execution_count": 20,
   "metadata": {},
   "outputs": [
    {
     "name": "stdout",
     "output_type": "stream",
     "text": [
      "   Winner  HP_diff  Attack_diff  Defense_diff  Sp.Atk_diff  Sp.Def_diff  \\\n",
      "0       1      -20           -6            10          -15           10   \n",
      "1       1        0          -39           -18           18           39   \n",
      "2       1      -20          -35            10          -45           10   \n",
      "3       1      -37          -80           -50           10          -50   \n",
      "4       0       50           50          -105          105         -160   \n",
      "\n",
      "   Speed_diff  Legendary_diff  P1_Type1  P1_Type2  P2_Type1  P2_Type2  \n",
      "0         -19               0       1.0       0.5       4.0       1.0  \n",
      "1           0               0       2.0       2.0       0.5       1.0  \n",
      "2           0               0       1.0       1.0       1.0       1.0  \n",
      "3         -28               0       0.5       1.0       1.0       1.0  \n",
      "4          50               0       2.0       2.0       1.0       1.0  \n"
     ]
    }
   ],
   "source": [
    "train_df = effectiveness(train_df)\n",
    "print(train_df.head(5))"
   ]
  },
  {
   "cell_type": "code",
   "execution_count": 21,
   "metadata": {},
   "outputs": [],
   "source": [
    "from sklearn.model_selection import train_test_split\n",
    "\n",
    "y_train_full = train_df['Winner']\n",
    "x_train_full = train_df.drop('Winner', axis=1)\n",
    "\n",
    "from sklearn.model_selection import train_test_split\n",
    "x_train, x_cv, y_train, y_cv = train_test_split(x_train_full, y_train_full, test_size=0.3, random_state=40)"
   ]
  },
  {
   "cell_type": "markdown",
   "metadata": {},
   "source": [
    "## Creating Models to Predict \n",
    "Model would be selected based on the accuracy of the model"
   ]
  },
  {
   "cell_type": "code",
   "execution_count": 22,
   "metadata": {
    "scrolled": false
   },
   "outputs": [
    {
     "name": "stdout",
     "output_type": "stream",
     "text": [
      "Accuracy of log reg: 0.8849333333333333\n",
      "              precision    recall  f1-score   support\n",
      "\n",
      "           0       0.88      0.87      0.88      7107\n",
      "           1       0.89      0.90      0.89      7893\n",
      "\n",
      "    accuracy                           0.88     15000\n",
      "   macro avg       0.88      0.88      0.88     15000\n",
      "weighted avg       0.88      0.88      0.88     15000\n",
      "\n",
      "Accuracy of naive bayes Gaussian: 0.8082666666666667\n",
      "              precision    recall  f1-score   support\n",
      "\n",
      "           0       0.80      0.80      0.80      7107\n",
      "           1       0.82      0.82      0.82      7893\n",
      "\n",
      "    accuracy                           0.81     15000\n",
      "   macro avg       0.81      0.81      0.81     15000\n",
      "weighted avg       0.81      0.81      0.81     15000\n",
      "\n",
      "Accuracy of naive bayes Bernoulli: 0.9324666666666667\n",
      "              precision    recall  f1-score   support\n",
      "\n",
      "           0       0.91      0.95      0.93      7107\n",
      "           1       0.95      0.92      0.93      7893\n",
      "\n",
      "    accuracy                           0.93     15000\n",
      "   macro avg       0.93      0.93      0.93     15000\n",
      "weighted avg       0.93      0.93      0.93     15000\n",
      "\n",
      "Accuracy of random forest: 0.9515333333333333\n",
      "              precision    recall  f1-score   support\n",
      "\n",
      "           0       0.94      0.96      0.95      7107\n",
      "           1       0.96      0.94      0.95      7893\n",
      "\n",
      "    accuracy                           0.95     15000\n",
      "   macro avg       0.95      0.95      0.95     15000\n",
      "weighted avg       0.95      0.95      0.95     15000\n",
      "\n",
      "Accuracy of knn: 0.9027333333333334\n",
      "              precision    recall  f1-score   support\n",
      "\n",
      "           0       0.90      0.90      0.90      7107\n",
      "           1       0.91      0.91      0.91      7893\n",
      "\n",
      "    accuracy                           0.90     15000\n",
      "   macro avg       0.90      0.90      0.90     15000\n",
      "weighted avg       0.90      0.90      0.90     15000\n",
      "\n",
      "Accuracy of Decision Tree: 0.9148666666666667\n",
      "              precision    recall  f1-score   support\n",
      "\n",
      "           0       0.91      0.90      0.91      7107\n",
      "           1       0.91      0.92      0.92      7893\n",
      "\n",
      "    accuracy                           0.91     15000\n",
      "   macro avg       0.91      0.91      0.91     15000\n",
      "weighted avg       0.91      0.91      0.91     15000\n",
      "\n",
      "Accuracy of Svm: 0.9267333333333333\n",
      "              precision    recall  f1-score   support\n",
      "\n",
      "           0       0.92      0.93      0.92      7107\n",
      "           1       0.93      0.93      0.93      7893\n",
      "\n",
      "    accuracy                           0.93     15000\n",
      "   macro avg       0.93      0.93      0.93     15000\n",
      "weighted avg       0.93      0.93      0.93     15000\n",
      "\n"
     ]
    }
   ],
   "source": [
    "from sklearn.metrics import accuracy_score\n",
    "from sklearn.linear_model import LogisticRegression\n",
    "from sklearn.naive_bayes import GaussianNB, BernoulliNB\n",
    "from sklearn.tree import DecisionTreeClassifier\n",
    "from sklearn.ensemble import RandomForestClassifier\n",
    "from sklearn.neighbors import KNeighborsClassifier\n",
    "from sklearn.metrics import classification_report\n",
    "from sklearn.model_selection import KFold\n",
    "from sklearn import svm\n",
    "import warnings\n",
    "warnings.filterwarnings(\"ignore\")\n",
    "\n",
    "\n",
    "clf_dict = {'log reg': LogisticRegression(), \n",
    "            'naive bayes Gaussian': GaussianNB(),\n",
    "            'naive bayes Bernoulli': BernoulliNB(),\n",
    "            'random forest': RandomForestClassifier(n_estimators=100),\n",
    "            'knn': KNeighborsClassifier(),\n",
    "            'Decision Tree': DecisionTreeClassifier(),\n",
    "            'Svm': svm.SVC()}\n",
    "\n",
    "for name, clf in clf_dict.items():\n",
    "    model = clf.fit(x_train,y_train)\n",
    "    pred = model.predict(x_cv)\n",
    "    print('Accuracy of {}:'.format(name), accuracy_score(pred, y_cv))\n",
    "    print(classification_report(y_cv, pred))"
   ]
  },
  {
   "cell_type": "markdown",
   "metadata": {},
   "source": [
    "# Parameter Tuning"
   ]
  },
  {
   "cell_type": "code",
   "execution_count": 23,
   "metadata": {},
   "outputs": [
    {
     "data": {
      "text/plain": [
       "{'bootstrap': True,\n",
       " 'ccp_alpha': 0.0,\n",
       " 'class_weight': None,\n",
       " 'criterion': 'gini',\n",
       " 'max_depth': None,\n",
       " 'max_features': 'auto',\n",
       " 'max_leaf_nodes': None,\n",
       " 'max_samples': None,\n",
       " 'min_impurity_decrease': 0.0,\n",
       " 'min_impurity_split': None,\n",
       " 'min_samples_leaf': 1,\n",
       " 'min_samples_split': 2,\n",
       " 'min_weight_fraction_leaf': 0.0,\n",
       " 'n_estimators': 100,\n",
       " 'n_jobs': None,\n",
       " 'oob_score': False,\n",
       " 'random_state': None,\n",
       " 'verbose': 0,\n",
       " 'warm_start': False}"
      ]
     },
     "execution_count": 23,
     "metadata": {},
     "output_type": "execute_result"
    }
   ],
   "source": [
    "#Since Random Forest has the hightest Accuracy so I tried to get more accuracy by Tuning it's accuracy.\n",
    "RandomForestClassifier().get_params()"
   ]
  },
  {
   "cell_type": "code",
   "execution_count": 24,
   "metadata": {},
   "outputs": [
    {
     "name": "stdout",
     "output_type": "stream",
     "text": [
      "Number of combinations =  24\n"
     ]
    },
    {
     "data": {
      "text/plain": [
       "{'n_estimators': [160, 190, 220],\n",
       " 'criterion': ['gini'],\n",
       " 'max_depth': [35, 55],\n",
       " 'min_samples_split': [0.001, 0.005],\n",
       " 'min_samples_leaf': [0.001, 0.005],\n",
       " 'max_features': ['log2']}"
      ]
     },
     "execution_count": 24,
     "metadata": {},
     "output_type": "execute_result"
    }
   ],
   "source": [
    "n_estimators_list = [160,190,220]\n",
    "criterion_list = ['gini']\n",
    "max_depth_list = [35,55]\n",
    "min_samples_split_list = [0.001, 0.005]\n",
    "min_samples_leaf_list = [0.001, 0.005]\n",
    "max_features_list = ['log2']\n",
    "\n",
    "params_grid = {\n",
    "    'n_estimators': n_estimators_list,\n",
    "    'criterion': criterion_list,\n",
    "    'max_depth': max_depth_list,\n",
    "    'min_samples_split': min_samples_split_list,\n",
    "    'min_samples_leaf': min_samples_leaf_list,\n",
    "    'max_features': max_features_list\n",
    "}\n",
    "\n",
    "num_combinations = 1\n",
    "for k in params_grid.keys(): num_combinations *= len(params_grid[k])\n",
    "\n",
    "print('Number of combinations = ', num_combinations)\n",
    "params_grid"
   ]
  },
  {
   "cell_type": "code",
   "execution_count": 26,
   "metadata": {
    "scrolled": true
   },
   "outputs": [
    {
     "name": "stdout",
     "output_type": "stream",
     "text": [
      "Fitting 3 folds for each of 24 candidates, totalling 72 fits\n",
      "[CV 1/3] END criterion=gini, max_depth=35, max_features=log2, min_samples_leaf=0.001, min_samples_split=0.001, n_estimators=160;, score=(train=nan, test=nan) total time=   3.3s\n",
      "[CV 2/3] END criterion=gini, max_depth=35, max_features=log2, min_samples_leaf=0.001, min_samples_split=0.001, n_estimators=160;, score=(train=nan, test=nan) total time=   3.3s\n",
      "[CV 3/3] END criterion=gini, max_depth=35, max_features=log2, min_samples_leaf=0.001, min_samples_split=0.001, n_estimators=160;, score=(train=nan, test=nan) total time=   3.3s\n",
      "[CV 1/3] END criterion=gini, max_depth=35, max_features=log2, min_samples_leaf=0.001, min_samples_split=0.001, n_estimators=190;, score=(train=nan, test=nan) total time=   5.0s\n",
      "[CV 2/3] END criterion=gini, max_depth=35, max_features=log2, min_samples_leaf=0.001, min_samples_split=0.001, n_estimators=190;, score=(train=nan, test=nan) total time=   5.2s\n",
      "[CV 3/3] END criterion=gini, max_depth=35, max_features=log2, min_samples_leaf=0.001, min_samples_split=0.001, n_estimators=190;, score=(train=nan, test=nan) total time=   5.3s\n",
      "[CV 1/3] END criterion=gini, max_depth=35, max_features=log2, min_samples_leaf=0.001, min_samples_split=0.001, n_estimators=220;, score=(train=nan, test=nan) total time=   6.0s\n",
      "[CV 2/3] END criterion=gini, max_depth=35, max_features=log2, min_samples_leaf=0.001, min_samples_split=0.001, n_estimators=220;, score=(train=nan, test=nan) total time=   5.4s\n",
      "[CV 3/3] END criterion=gini, max_depth=35, max_features=log2, min_samples_leaf=0.001, min_samples_split=0.001, n_estimators=220;, score=(train=nan, test=nan) total time=   4.8s\n",
      "[CV 1/3] END criterion=gini, max_depth=35, max_features=log2, min_samples_leaf=0.001, min_samples_split=0.005, n_estimators=160;, score=(train=nan, test=nan) total time=   3.1s\n",
      "[CV 2/3] END criterion=gini, max_depth=35, max_features=log2, min_samples_leaf=0.001, min_samples_split=0.005, n_estimators=160;, score=(train=nan, test=nan) total time=   3.7s\n",
      "[CV 3/3] END criterion=gini, max_depth=35, max_features=log2, min_samples_leaf=0.001, min_samples_split=0.005, n_estimators=160;, score=(train=nan, test=nan) total time=   3.4s\n",
      "[CV 1/3] END criterion=gini, max_depth=35, max_features=log2, min_samples_leaf=0.001, min_samples_split=0.005, n_estimators=190;, score=(train=nan, test=nan) total time=   4.2s\n",
      "[CV 2/3] END criterion=gini, max_depth=35, max_features=log2, min_samples_leaf=0.001, min_samples_split=0.005, n_estimators=190;, score=(train=nan, test=nan) total time=   4.0s\n",
      "[CV 3/3] END criterion=gini, max_depth=35, max_features=log2, min_samples_leaf=0.001, min_samples_split=0.005, n_estimators=190;, score=(train=nan, test=nan) total time=   4.0s\n",
      "[CV 1/3] END criterion=gini, max_depth=35, max_features=log2, min_samples_leaf=0.001, min_samples_split=0.005, n_estimators=220;, score=(train=nan, test=nan) total time=   4.8s\n",
      "[CV 2/3] END criterion=gini, max_depth=35, max_features=log2, min_samples_leaf=0.001, min_samples_split=0.005, n_estimators=220;, score=(train=nan, test=nan) total time=   4.6s\n",
      "[CV 3/3] END criterion=gini, max_depth=35, max_features=log2, min_samples_leaf=0.001, min_samples_split=0.005, n_estimators=220;, score=(train=nan, test=nan) total time=   4.7s\n",
      "[CV 1/3] END criterion=gini, max_depth=35, max_features=log2, min_samples_leaf=0.005, min_samples_split=0.001, n_estimators=160;, score=(train=nan, test=nan) total time=   2.9s\n",
      "[CV 2/3] END criterion=gini, max_depth=35, max_features=log2, min_samples_leaf=0.005, min_samples_split=0.001, n_estimators=160;, score=(train=nan, test=nan) total time=   3.1s\n",
      "[CV 3/3] END criterion=gini, max_depth=35, max_features=log2, min_samples_leaf=0.005, min_samples_split=0.001, n_estimators=160;, score=(train=nan, test=nan) total time=   3.0s\n",
      "[CV 1/3] END criterion=gini, max_depth=35, max_features=log2, min_samples_leaf=0.005, min_samples_split=0.001, n_estimators=190;, score=(train=nan, test=nan) total time=   3.4s\n",
      "[CV 2/3] END criterion=gini, max_depth=35, max_features=log2, min_samples_leaf=0.005, min_samples_split=0.001, n_estimators=190;, score=(train=nan, test=nan) total time=   3.3s\n",
      "[CV 3/3] END criterion=gini, max_depth=35, max_features=log2, min_samples_leaf=0.005, min_samples_split=0.001, n_estimators=190;, score=(train=nan, test=nan) total time=   3.0s\n",
      "[CV 1/3] END criterion=gini, max_depth=35, max_features=log2, min_samples_leaf=0.005, min_samples_split=0.001, n_estimators=220;, score=(train=nan, test=nan) total time=   3.7s\n",
      "[CV 2/3] END criterion=gini, max_depth=35, max_features=log2, min_samples_leaf=0.005, min_samples_split=0.001, n_estimators=220;, score=(train=nan, test=nan) total time=   3.5s\n",
      "[CV 3/3] END criterion=gini, max_depth=35, max_features=log2, min_samples_leaf=0.005, min_samples_split=0.001, n_estimators=220;, score=(train=nan, test=nan) total time=   3.5s\n",
      "[CV 1/3] END criterion=gini, max_depth=35, max_features=log2, min_samples_leaf=0.005, min_samples_split=0.005, n_estimators=160;, score=(train=nan, test=nan) total time=   2.6s\n",
      "[CV 2/3] END criterion=gini, max_depth=35, max_features=log2, min_samples_leaf=0.005, min_samples_split=0.005, n_estimators=160;, score=(train=nan, test=nan) total time=   2.9s\n",
      "[CV 3/3] END criterion=gini, max_depth=35, max_features=log2, min_samples_leaf=0.005, min_samples_split=0.005, n_estimators=160;, score=(train=nan, test=nan) total time=   2.7s\n",
      "[CV 1/3] END criterion=gini, max_depth=35, max_features=log2, min_samples_leaf=0.005, min_samples_split=0.005, n_estimators=190;, score=(train=nan, test=nan) total time=   3.1s\n",
      "[CV 2/3] END criterion=gini, max_depth=35, max_features=log2, min_samples_leaf=0.005, min_samples_split=0.005, n_estimators=190;, score=(train=nan, test=nan) total time=   3.0s\n",
      "[CV 3/3] END criterion=gini, max_depth=35, max_features=log2, min_samples_leaf=0.005, min_samples_split=0.005, n_estimators=190;, score=(train=nan, test=nan) total time=   3.0s\n",
      "[CV 1/3] END criterion=gini, max_depth=35, max_features=log2, min_samples_leaf=0.005, min_samples_split=0.005, n_estimators=220;, score=(train=nan, test=nan) total time=   3.5s\n",
      "[CV 2/3] END criterion=gini, max_depth=35, max_features=log2, min_samples_leaf=0.005, min_samples_split=0.005, n_estimators=220;, score=(train=nan, test=nan) total time=   3.6s\n",
      "[CV 3/3] END criterion=gini, max_depth=35, max_features=log2, min_samples_leaf=0.005, min_samples_split=0.005, n_estimators=220;, score=(train=nan, test=nan) total time=   3.6s\n",
      "[CV 1/3] END criterion=gini, max_depth=55, max_features=log2, min_samples_leaf=0.001, min_samples_split=0.001, n_estimators=160;, score=(train=nan, test=nan) total time=   3.5s\n",
      "[CV 2/3] END criterion=gini, max_depth=55, max_features=log2, min_samples_leaf=0.001, min_samples_split=0.001, n_estimators=160;, score=(train=nan, test=nan) total time=   3.9s\n",
      "[CV 3/3] END criterion=gini, max_depth=55, max_features=log2, min_samples_leaf=0.001, min_samples_split=0.001, n_estimators=160;, score=(train=nan, test=nan) total time=   3.9s\n",
      "[CV 1/3] END criterion=gini, max_depth=55, max_features=log2, min_samples_leaf=0.001, min_samples_split=0.001, n_estimators=190;, score=(train=nan, test=nan) total time=   4.4s\n",
      "[CV 2/3] END criterion=gini, max_depth=55, max_features=log2, min_samples_leaf=0.001, min_samples_split=0.001, n_estimators=190;, score=(train=nan, test=nan) total time=   4.0s\n",
      "[CV 3/3] END criterion=gini, max_depth=55, max_features=log2, min_samples_leaf=0.001, min_samples_split=0.001, n_estimators=190;, score=(train=nan, test=nan) total time=   4.0s\n",
      "[CV 1/3] END criterion=gini, max_depth=55, max_features=log2, min_samples_leaf=0.001, min_samples_split=0.001, n_estimators=220;, score=(train=nan, test=nan) total time=   4.6s\n",
      "[CV 2/3] END criterion=gini, max_depth=55, max_features=log2, min_samples_leaf=0.001, min_samples_split=0.001, n_estimators=220;, score=(train=nan, test=nan) total time=   4.6s\n",
      "[CV 3/3] END criterion=gini, max_depth=55, max_features=log2, min_samples_leaf=0.001, min_samples_split=0.001, n_estimators=220;, score=(train=nan, test=nan) total time=   4.6s\n",
      "[CV 1/3] END criterion=gini, max_depth=55, max_features=log2, min_samples_leaf=0.001, min_samples_split=0.005, n_estimators=160;, score=(train=nan, test=nan) total time=   3.1s\n"
     ]
    },
    {
     "name": "stdout",
     "output_type": "stream",
     "text": [
      "[CV 2/3] END criterion=gini, max_depth=55, max_features=log2, min_samples_leaf=0.001, min_samples_split=0.005, n_estimators=160;, score=(train=nan, test=nan) total time=   3.1s\n",
      "[CV 3/3] END criterion=gini, max_depth=55, max_features=log2, min_samples_leaf=0.001, min_samples_split=0.005, n_estimators=160;, score=(train=nan, test=nan) total time=   3.3s\n",
      "[CV 1/3] END criterion=gini, max_depth=55, max_features=log2, min_samples_leaf=0.001, min_samples_split=0.005, n_estimators=190;, score=(train=nan, test=nan) total time=   4.6s\n",
      "[CV 2/3] END criterion=gini, max_depth=55, max_features=log2, min_samples_leaf=0.001, min_samples_split=0.005, n_estimators=190;, score=(train=nan, test=nan) total time=   4.5s\n",
      "[CV 3/3] END criterion=gini, max_depth=55, max_features=log2, min_samples_leaf=0.001, min_samples_split=0.005, n_estimators=190;, score=(train=nan, test=nan) total time=   4.4s\n",
      "[CV 1/3] END criterion=gini, max_depth=55, max_features=log2, min_samples_leaf=0.001, min_samples_split=0.005, n_estimators=220;, score=(train=nan, test=nan) total time=   5.6s\n",
      "[CV 2/3] END criterion=gini, max_depth=55, max_features=log2, min_samples_leaf=0.001, min_samples_split=0.005, n_estimators=220;, score=(train=nan, test=nan) total time=   5.0s\n",
      "[CV 3/3] END criterion=gini, max_depth=55, max_features=log2, min_samples_leaf=0.001, min_samples_split=0.005, n_estimators=220;, score=(train=nan, test=nan) total time=   5.9s\n",
      "[CV 1/3] END criterion=gini, max_depth=55, max_features=log2, min_samples_leaf=0.005, min_samples_split=0.001, n_estimators=160;, score=(train=nan, test=nan) total time=   3.2s\n",
      "[CV 2/3] END criterion=gini, max_depth=55, max_features=log2, min_samples_leaf=0.005, min_samples_split=0.001, n_estimators=160;, score=(train=nan, test=nan) total time=   3.9s\n",
      "[CV 3/3] END criterion=gini, max_depth=55, max_features=log2, min_samples_leaf=0.005, min_samples_split=0.001, n_estimators=160;, score=(train=nan, test=nan) total time=   3.0s\n",
      "[CV 1/3] END criterion=gini, max_depth=55, max_features=log2, min_samples_leaf=0.005, min_samples_split=0.001, n_estimators=190;, score=(train=nan, test=nan) total time=   4.6s\n",
      "[CV 2/3] END criterion=gini, max_depth=55, max_features=log2, min_samples_leaf=0.005, min_samples_split=0.001, n_estimators=190;, score=(train=nan, test=nan) total time=   4.3s\n",
      "[CV 3/3] END criterion=gini, max_depth=55, max_features=log2, min_samples_leaf=0.005, min_samples_split=0.001, n_estimators=190;, score=(train=nan, test=nan) total time=   3.6s\n",
      "[CV 1/3] END criterion=gini, max_depth=55, max_features=log2, min_samples_leaf=0.005, min_samples_split=0.001, n_estimators=220;, score=(train=nan, test=nan) total time=   4.4s\n",
      "[CV 2/3] END criterion=gini, max_depth=55, max_features=log2, min_samples_leaf=0.005, min_samples_split=0.001, n_estimators=220;, score=(train=nan, test=nan) total time=   4.8s\n",
      "[CV 3/3] END criterion=gini, max_depth=55, max_features=log2, min_samples_leaf=0.005, min_samples_split=0.001, n_estimators=220;, score=(train=nan, test=nan) total time=   4.4s\n",
      "[CV 1/3] END criterion=gini, max_depth=55, max_features=log2, min_samples_leaf=0.005, min_samples_split=0.005, n_estimators=160;, score=(train=nan, test=nan) total time=   3.0s\n",
      "[CV 2/3] END criterion=gini, max_depth=55, max_features=log2, min_samples_leaf=0.005, min_samples_split=0.005, n_estimators=160;, score=(train=nan, test=nan) total time=   3.0s\n",
      "[CV 3/3] END criterion=gini, max_depth=55, max_features=log2, min_samples_leaf=0.005, min_samples_split=0.005, n_estimators=160;, score=(train=nan, test=nan) total time=   3.2s\n",
      "[CV 1/3] END criterion=gini, max_depth=55, max_features=log2, min_samples_leaf=0.005, min_samples_split=0.005, n_estimators=190;, score=(train=nan, test=nan) total time=   4.0s\n",
      "[CV 2/3] END criterion=gini, max_depth=55, max_features=log2, min_samples_leaf=0.005, min_samples_split=0.005, n_estimators=190;, score=(train=nan, test=nan) total time=   3.8s\n",
      "[CV 3/3] END criterion=gini, max_depth=55, max_features=log2, min_samples_leaf=0.005, min_samples_split=0.005, n_estimators=190;, score=(train=nan, test=nan) total time=   3.9s\n",
      "[CV 1/3] END criterion=gini, max_depth=55, max_features=log2, min_samples_leaf=0.005, min_samples_split=0.005, n_estimators=220;, score=(train=nan, test=nan) total time=   3.9s\n",
      "[CV 2/3] END criterion=gini, max_depth=55, max_features=log2, min_samples_leaf=0.005, min_samples_split=0.005, n_estimators=220;, score=(train=nan, test=nan) total time=   3.6s\n",
      "[CV 3/3] END criterion=gini, max_depth=55, max_features=log2, min_samples_leaf=0.005, min_samples_split=0.005, n_estimators=220;, score=(train=nan, test=nan) total time=   4.0s\n"
     ]
    },
    {
     "data": {
      "text/plain": [
       "GridSearchCV(cv=3, estimator=RandomForestClassifier(class_weight='balanced'),\n",
       "             param_grid={'criterion': ['gini'], 'max_depth': [35, 55],\n",
       "                         'max_features': ['log2'],\n",
       "                         'min_samples_leaf': [0.001, 0.005],\n",
       "                         'min_samples_split': [0.001, 0.005],\n",
       "                         'n_estimators': [160, 190, 220]},\n",
       "             return_train_score=True,\n",
       "             scoring=<function my_roc_auc_score at 0x000001C921B36D30>,\n",
       "             verbose=4)"
      ]
     },
     "execution_count": 26,
     "metadata": {},
     "output_type": "execute_result"
    }
   ],
   "source": [
    "from sklearn.model_selection import GridSearchCV\n",
    "def my_roc_auc_score(model, x_train, y_train): return metrics.roc_auc_score(y_cv, model.predict(x_cv))\n",
    "\n",
    "model_rf = GridSearchCV(estimator=RandomForestClassifier(class_weight='balanced'),\n",
    "                        param_grid=params_grid,\n",
    "                        cv=3,\n",
    "                        scoring=my_roc_auc_score,\n",
    "                        return_train_score=True,\n",
    "                        verbose=4)\n",
    "\n",
    "model_rf.fit(x_train,y_train)"
   ]
  },
  {
   "cell_type": "code",
   "execution_count": 27,
   "metadata": {
    "scrolled": true
   },
   "outputs": [
    {
     "data": {
      "text/plain": [
       "{'criterion': 'gini',\n",
       " 'max_depth': 35,\n",
       " 'max_features': 'log2',\n",
       " 'min_samples_leaf': 0.001,\n",
       " 'min_samples_split': 0.001,\n",
       " 'n_estimators': 160}"
      ]
     },
     "execution_count": 27,
     "metadata": {},
     "output_type": "execute_result"
    }
   ],
   "source": [
    "model_rf.best_params_"
   ]
  },
  {
   "cell_type": "code",
   "execution_count": 28,
   "metadata": {},
   "outputs": [
    {
     "data": {
      "text/plain": [
       "RandomForestClassifier(class_weight='balanced', max_depth=35,\n",
       "                       max_features='log2', min_samples_leaf=0.001,\n",
       "                       min_samples_split=0.001)"
      ]
     },
     "execution_count": 28,
     "metadata": {},
     "output_type": "execute_result"
    }
   ],
   "source": [
    "model_rf_fin = RandomForestClassifier(class_weight='balanced',\n",
    "                                      criterion='gini',\n",
    "                                      max_depth=35,\n",
    "                                      max_features='log2',\n",
    "                                      min_samples_leaf=0.001,\n",
    "                                      min_samples_split=0.001,\n",
    "                                      n_estimators=100)\n",
    "model_rf_fin.fit(x_train,y_train)"
   ]
  },
  {
   "cell_type": "code",
   "execution_count": 29,
   "metadata": {},
   "outputs": [
    {
     "name": "stdout",
     "output_type": "stream",
     "text": [
      "Aucrracy= 0.9409\n"
     ]
    }
   ],
   "source": [
    "from sklearn import metrics\n",
    "print('Aucrracy= {:.4f}'.format(metrics.roc_auc_score(y_cv, model_rf_fin.predict(x_cv))))"
   ]
  },
  {
   "cell_type": "markdown",
   "metadata": {},
   "source": [
    "# Confusion Matrix"
   ]
  },
  {
   "cell_type": "code",
   "execution_count": 30,
   "metadata": {
    "scrolled": false
   },
   "outputs": [
    {
     "data": {
      "text/plain": [
       "([<matplotlib.axis.YTick at 0x1c9205c41c0>,\n",
       "  <matplotlib.axis.YTick at 0x1c97d3563d0>],\n",
       " [Text(0, 0.5, 'False'), Text(0, 1.5, 'True')])"
      ]
     },
     "execution_count": 30,
     "metadata": {},
     "output_type": "execute_result"
    },
    {
     "data": {
      "image/png": "[encoded data removed]",
      "text/plain": [
       "<Figure size 504x432 with 2 Axes>"
      ]
     },
     "metadata": {
      "needs_background": "light"
     },
     "output_type": "display_data"
    }
   ],
   "source": [
    "from sklearn.metrics import confusion_matrix\n",
    "cnf_matrix = confusion_matrix(y_cv, pred)\n",
    "%matplotlib inline\n",
    "class_names=[False, True] # name  of classes\n",
    "fig, ax = plt.subplots(figsize=(7, 6))\n",
    "sns.heatmap(pd.DataFrame(cnf_matrix), annot=True, cmap=\"YlGnBu\", fmt='g')\n",
    "ax.xaxis.set_label_position(\"top\")\n",
    "plt.tight_layout()\n",
    "plt.title('Confusion matrix')\n",
    "plt.ylabel('Actual label')\n",
    "plt.xlabel('Predicted label')\n",
    "tick_marks = [0.5, 1.5]\n",
    "plt.xticks(tick_marks, class_names)\n",
    "plt.yticks(tick_marks, class_names)"
   ]
  },
  {
   "cell_type": "markdown",
   "metadata": {},
   "source": [
    "# Predicting the Winner "
   ]
  },
  {
   "cell_type": "code",
   "execution_count": 31,
   "metadata": {
    "scrolled": false
   },
   "outputs": [
    {
     "name": "stdout",
     "output_type": "stream",
     "text": [
      "   HP_diff  Attack_diff  Defense_diff  Sp.Atk_diff  Sp.Def_diff  Speed_diff  \\\n",
      "0      -10           37           -10            5            5          38   \n",
      "1      -21            9            46          -11           51         -15   \n",
      "2       29          -15            17          110          -30          14   \n",
      "3       -5          -31           -12          -26           -7         -15   \n",
      "4     -125          -15           -50           -9          -14           5   \n",
      "\n",
      "   Legendary_diff  P1_Type1  P1_Type2  P2_Type1  P2_Type2  \n",
      "0               0       1.0       1.0       1.0       1.0  \n",
      "1               0       4.0       0.5       0.5       1.0  \n",
      "2               1       1.0       2.0       0.5       1.0  \n",
      "3               0       0.5       1.0       1.0       1.0  \n",
      "4               0       1.0       1.0       1.0       1.0  \n",
      "      First_pokemon  Second_pokemon  Winner\n",
      "0               129             117     129\n",
      "1               660             211     211\n",
      "2               706             115     706\n",
      "3               195             618     618\n",
      "4                27             656      27\n",
      "...             ...             ...     ...\n",
      "9995            216             498     498\n",
      "9996            113             404     404\n",
      "9997            493             104     493\n",
      "9998            643             259     643\n",
      "9999            678             531     531\n",
      "\n",
      "[10000 rows x 3 columns]\n"
     ]
    }
   ],
   "source": [
    "#Found that Random forest fits well and used it to predict the tests dataset\n",
    "prediction_df = tests.copy()\n",
    "test_df = replace(tests)\n",
    "test_df = stats_diff(test_df)\n",
    "test_df = effectiveness(test_df)\n",
    "print(test_df.head())\n",
    "classifier = RandomForestClassifier(n_estimators=200)\n",
    "model = classifier.fit(x_train_full, y_train_full)\n",
    "prediction = model.predict(test_df)\n",
    "prediction_df['Winner'] = prediction\n",
    "prediction_df['Winner'][prediction_df['Winner'] == 0] = prediction_df['First_pokemon']\n",
    "prediction_df['Winner'][prediction_df['Winner'] == 1] = prediction_df['Second_pokemon']\n",
    "print(prediction_df)\n"
   ]
  },
  {
   "cell_type": "code",
   "execution_count": 32,
   "metadata": {},
   "outputs": [],
   "source": [
    "prediction_df.to_csv('prediction.csv', index=False)"
   ]
  },
  {
   "cell_type": "code",
   "execution_count": 33,
   "metadata": {},
   "outputs": [
    {
     "data": {
      "text/html": [
       "<div>\n",
       "<style scoped>\n",
       "    .dataframe tbody tr th:only-of-type {\n",
       "        vertical-align: middle;\n",
       "    }\n",
       "\n",
       "    .dataframe tbody tr th {\n",
       "        vertical-align: top;\n",
       "    }\n",
       "\n",
       "    .dataframe thead th {\n",
       "        text-align: right;\n",
       "    }\n",
       "</style>\n",
       "<table border=\"1\" class=\"dataframe\">\n",
       "  <thead>\n",
       "    <tr style=\"text-align: right;\">\n",
       "      <th></th>\n",
       "      <th>First_pokemon</th>\n",
       "      <th>Second_pokemon</th>\n",
       "      <th>Winner</th>\n",
       "    </tr>\n",
       "  </thead>\n",
       "  <tbody>\n",
       "    <tr>\n",
       "      <th>0</th>\n",
       "      <td>129</td>\n",
       "      <td>117</td>\n",
       "      <td>129</td>\n",
       "    </tr>\n",
       "    <tr>\n",
       "      <th>1</th>\n",
       "      <td>660</td>\n",
       "      <td>211</td>\n",
       "      <td>211</td>\n",
       "    </tr>\n",
       "    <tr>\n",
       "      <th>2</th>\n",
       "      <td>706</td>\n",
       "      <td>115</td>\n",
       "      <td>706</td>\n",
       "    </tr>\n",
       "    <tr>\n",
       "      <th>3</th>\n",
       "      <td>195</td>\n",
       "      <td>618</td>\n",
       "      <td>618</td>\n",
       "    </tr>\n",
       "    <tr>\n",
       "      <th>4</th>\n",
       "      <td>27</td>\n",
       "      <td>656</td>\n",
       "      <td>27</td>\n",
       "    </tr>\n",
       "    <tr>\n",
       "      <th>...</th>\n",
       "      <td>...</td>\n",
       "      <td>...</td>\n",
       "      <td>...</td>\n",
       "    </tr>\n",
       "    <tr>\n",
       "      <th>9995</th>\n",
       "      <td>216</td>\n",
       "      <td>498</td>\n",
       "      <td>498</td>\n",
       "    </tr>\n",
       "    <tr>\n",
       "      <th>9996</th>\n",
       "      <td>113</td>\n",
       "      <td>404</td>\n",
       "      <td>404</td>\n",
       "    </tr>\n",
       "    <tr>\n",
       "      <th>9997</th>\n",
       "      <td>493</td>\n",
       "      <td>104</td>\n",
       "      <td>493</td>\n",
       "    </tr>\n",
       "    <tr>\n",
       "      <th>9998</th>\n",
       "      <td>643</td>\n",
       "      <td>259</td>\n",
       "      <td>643</td>\n",
       "    </tr>\n",
       "    <tr>\n",
       "      <th>9999</th>\n",
       "      <td>678</td>\n",
       "      <td>531</td>\n",
       "      <td>531</td>\n",
       "    </tr>\n",
       "  </tbody>\n",
       "</table>\n",
       "<p>10000 rows × 3 columns</p>\n",
       "</div>"
      ],
      "text/plain": [
       "      First_pokemon  Second_pokemon  Winner\n",
       "0               129             117     129\n",
       "1               660             211     211\n",
       "2               706             115     706\n",
       "3               195             618     618\n",
       "4                27             656      27\n",
       "...             ...             ...     ...\n",
       "9995            216             498     498\n",
       "9996            113             404     404\n",
       "9997            493             104     493\n",
       "9998            643             259     643\n",
       "9999            678             531     531\n",
       "\n",
       "[10000 rows x 3 columns]"
      ]
     },
     "execution_count": 33,
     "metadata": {},
     "output_type": "execute_result"
    }
   ],
   "source": [
    "df_saved_file = pd.read_csv('prediction.csv')\n",
    "df_saved_file"
   ]
  }
 ],
 "metadata": {
  "kernelspec": {
   "display_name": "Python 3 (ipykernel)",
   "language": "python",
   "name": "python3"
  },
  "language_info": {
   "codemirror_mode": {
    "name": "ipython",
    "version": 3
   },
   "file_extension": ".py",
   "mimetype": "text/x-python",
   "name": "python",
   "nbconvert_exporter": "python",
   "pygments_lexer": "ipython3",
   "version": "3.9.7"
  }
 },
 "nbformat": 4,
 "nbformat_minor": 2
}
